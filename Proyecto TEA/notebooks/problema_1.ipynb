{
  "metadata": {
    "language_info": {
      "codemirror_mode": {
        "name": "python",
        "version": 3
      },
      "file_extension": ".py",
      "mimetype": "text/x-python",
      "name": "python",
      "nbconvert_exporter": "python",
      "pygments_lexer": "ipython3",
      "version": "3.8"
    },
    "kernelspec": {
      "name": "python",
      "display_name": "Python (Pyodide)",
      "language": "python"
    }
  },
  "nbformat_minor": 4,
  "nbformat": 4,
  "cells": [
    {
      "cell_type": "code",
      "source": "# Subir fuente de datos del proyecto",
      "metadata": {
        "trusted": true
      },
      "execution_count": 1,
      "outputs": []
    },
    {
      "cell_type": "code",
      "source": "import pandas as pd",
      "metadata": {
        "trusted": true
      },
      "execution_count": 2,
      "outputs": []
    },
    {
      "cell_type": "code",
      "source": "from matplotlib import pyplot as plt",
      "metadata": {
        "trusted": true
      },
      "execution_count": 3,
      "outputs": []
    },
    {
      "cell_type": "code",
      "source": "fd1 = pd.read_csv(\"TEA (1).c\")",
      "metadata": {
        "trusted": true
      },
      "execution_count": 8,
      "outputs": []
    },
    {
      "cell_type": "code",
      "source": "",
      "metadata": {
        "trusted": true
      },
      "execution_count": null,
      "outputs": [
        {
          "execution_count": 10,
          "output_type": "execute_result",
          "data": {
            "text/plain": "                      Marca temporal                         Nombre  \\\n0     2022/09/11 4:52:18 p. m. GMT-5                   Andrea Pérez   \n1     2022/09/11 4:56:18 p. m. GMT-5                         Laura    \n2     2022/09/11 4:59:12 p. m. GMT-5               Suyapa Rodríguez   \n3     2022/09/11 5:01:51 p. m. GMT-5                 Carlos Cordero   \n4     2022/09/11 5:01:54 p. m. GMT-5                Sandra Peralta    \n..                               ...                            ...   \n152   2022/09/14 8:08:59 p. m. GMT-5    Pablo Andres Duarte Cabrera   \n153   2022/09/14 8:09:16 p. m. GMT-5                       Dany Aju   \n154   2022/09/14 8:09:28 p. m. GMT-5                         Andrés   \n155   2022/09/14 8:10:49 p. m. GMT-5                Henry Amezquita   \n156  2022/09/18 10:27:49 p. m. GMT-5  Camila Mayté Sinclair Vargas    \n\n        Género Altura (m) Peso (Kg)  \\\n0     Femenino       1.60        50   \n1     Femenino       1.70        70   \n2     Femenino       1.62        49   \n3    Masculino       1.80       110   \n4     Femenino       1.56        91   \n..         ...        ...       ...   \n152  Masculino       1:75        75   \n153  Masculino       1.58       136   \n154  Masculino        160        54   \n155  Masculino       1.69     68 kg   \n156   Femenino       1.65        50   \n\n                                      Actividad física     Edad  \n0    Muy ligera (sentado, tumbado, poco o nada ejer...       19  \n1    Activa (construir, subir escaleras, deportes d...       20  \n2    Activa (construir, subir escaleras, deportes d...       19  \n3    Ligera (de pie, conducir, planchar, caminar, d...       24  \n4    Muy ligera (sentado, tumbado, poco o nada ejer...       32  \n..                                                 ...      ...  \n152  Activa (construir, subir escaleras, deportes d...       18  \n153  Moderada (limpiar, caminar rápido, cargar peso...       19  \n154  Moderada (limpiar, caminar rápido, cargar peso...       18  \n155  Muy activa (trabajos de fuerza, correr, deport...  19 años  \n156  Ligera (de pie, conducir, planchar, caminar, d...       16  \n\n[157 rows x 7 columns]",
            "text/html": "<div>\n<style scoped>\n    .dataframe tbody tr th:only-of-type {\n        vertical-align: middle;\n    }\n\n    .dataframe tbody tr th {\n        vertical-align: top;\n    }\n\n    .dataframe thead th {\n        text-align: right;\n    }\n</style>\n<table border=\"1\" class=\"dataframe\">\n  <thead>\n    <tr style=\"text-align: right;\">\n      <th></th>\n      <th>Marca temporal</th>\n      <th>Nombre</th>\n      <th>Género</th>\n      <th>Altura (m)</th>\n      <th>Peso (Kg)</th>\n      <th>Actividad física</th>\n      <th>Edad</th>\n    </tr>\n  </thead>\n  <tbody>\n    <tr>\n      <th>0</th>\n      <td>2022/09/11 4:52:18 p. m. GMT-5</td>\n      <td>Andrea Pérez</td>\n      <td>Femenino</td>\n      <td>1.60</td>\n      <td>50</td>\n      <td>Muy ligera (sentado, tumbado, poco o nada ejer...</td>\n      <td>19</td>\n    </tr>\n    <tr>\n      <th>1</th>\n      <td>2022/09/11 4:56:18 p. m. GMT-5</td>\n      <td>Laura</td>\n      <td>Femenino</td>\n      <td>1.70</td>\n      <td>70</td>\n      <td>Activa (construir, subir escaleras, deportes d...</td>\n      <td>20</td>\n    </tr>\n    <tr>\n      <th>2</th>\n      <td>2022/09/11 4:59:12 p. m. GMT-5</td>\n      <td>Suyapa Rodríguez</td>\n      <td>Femenino</td>\n      <td>1.62</td>\n      <td>49</td>\n      <td>Activa (construir, subir escaleras, deportes d...</td>\n      <td>19</td>\n    </tr>\n    <tr>\n      <th>3</th>\n      <td>2022/09/11 5:01:51 p. m. GMT-5</td>\n      <td>Carlos Cordero</td>\n      <td>Masculino</td>\n      <td>1.80</td>\n      <td>110</td>\n      <td>Ligera (de pie, conducir, planchar, caminar, d...</td>\n      <td>24</td>\n    </tr>\n    <tr>\n      <th>4</th>\n      <td>2022/09/11 5:01:54 p. m. GMT-5</td>\n      <td>Sandra Peralta</td>\n      <td>Femenino</td>\n      <td>1.56</td>\n      <td>91</td>\n      <td>Muy ligera (sentado, tumbado, poco o nada ejer...</td>\n      <td>32</td>\n    </tr>\n    <tr>\n      <th>...</th>\n      <td>...</td>\n      <td>...</td>\n      <td>...</td>\n      <td>...</td>\n      <td>...</td>\n      <td>...</td>\n      <td>...</td>\n    </tr>\n    <tr>\n      <th>152</th>\n      <td>2022/09/14 8:08:59 p. m. GMT-5</td>\n      <td>Pablo Andres Duarte Cabrera</td>\n      <td>Masculino</td>\n      <td>1:75</td>\n      <td>75</td>\n      <td>Activa (construir, subir escaleras, deportes d...</td>\n      <td>18</td>\n    </tr>\n    <tr>\n      <th>153</th>\n      <td>2022/09/14 8:09:16 p. m. GMT-5</td>\n      <td>Dany Aju</td>\n      <td>Masculino</td>\n      <td>1.58</td>\n      <td>136</td>\n      <td>Moderada (limpiar, caminar rápido, cargar peso...</td>\n      <td>19</td>\n    </tr>\n    <tr>\n      <th>154</th>\n      <td>2022/09/14 8:09:28 p. m. GMT-5</td>\n      <td>Andrés</td>\n      <td>Masculino</td>\n      <td>160</td>\n      <td>54</td>\n      <td>Moderada (limpiar, caminar rápido, cargar peso...</td>\n      <td>18</td>\n    </tr>\n    <tr>\n      <th>155</th>\n      <td>2022/09/14 8:10:49 p. m. GMT-5</td>\n      <td>Henry Amezquita</td>\n      <td>Masculino</td>\n      <td>1.69</td>\n      <td>68 kg</td>\n      <td>Muy activa (trabajos de fuerza, correr, deport...</td>\n      <td>19 años</td>\n    </tr>\n    <tr>\n      <th>156</th>\n      <td>2022/09/18 10:27:49 p. m. GMT-5</td>\n      <td>Camila Mayté Sinclair Vargas</td>\n      <td>Femenino</td>\n      <td>1.65</td>\n      <td>50</td>\n      <td>Ligera (de pie, conducir, planchar, caminar, d...</td>\n      <td>16</td>\n    </tr>\n  </tbody>\n</table>\n<p>157 rows × 7 columns</p>\n</div>"
          },
          "metadata": {}
        }
      ]
    }
  ]
}